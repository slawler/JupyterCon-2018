{
 "cells": [
  {
   "cell_type": "markdown",
   "metadata": {},
   "source": [
    "# Convert building footprints from polygons to lines and add a unique ID to each building"
   ]
  },
  {
   "cell_type": "markdown",
   "metadata": {},
   "source": [
    "## Required:\n",
    " - Bing building footprints (125 million buildings across the whole country) as polygons\n",
    "     - In JSON format, open source at: https://github.com/Microsoft/USBuildingFootprints\n",
    " - State abbreviations dictionary to add unique IDs to each building\n",
    " \n",
    "## Workflow\n",
    " 1. Set the state abbreviations dictionary\n",
    " 2. Set the input polygon JSON directory and the output lines JSON directory\n",
    " 3. Glob for a list of JSON polygon files\n",
    " 4. Iterate through each JSON file line by line, changing the geometry and adding a unique ID and statecode"
   ]
  },
  {
   "cell_type": "code",
   "execution_count": 1,
   "metadata": {},
   "outputs": [],
   "source": [
    "# Import the necessary modules\n",
    "import os \n",
    "from glob import glob"
   ]
  },
  {
   "cell_type": "markdown",
   "metadata": {},
   "source": [
    "### Workflow step 1. \n",
    "#### Set the state abbreviations dictionary"
   ]
  },
  {
   "cell_type": "code",
   "execution_count": 2,
   "metadata": {},
   "outputs": [],
   "source": [
    "us_state_abbrev = {\n",
    "    'Alabama': 'AL',\n",
    "    'Alaska': 'AK',\n",
    "    'Arizona': 'AZ',\n",
    "    'Arkansas': 'AR',\n",
    "    'California': 'CA',\n",
    "    'Colorado': 'CO',\n",
    "    'Connecticut': 'CT',\n",
    "    'DistrictofColumbia': 'DC',\n",
    "    'Delaware': 'DE',\n",
    "    'Florida': 'FL',\n",
    "    'Georgia': 'GA',\n",
    "    'Hawaii': 'HI',\n",
    "    'Idaho': 'ID',\n",
    "    'Illinois': 'IL',\n",
    "    'Indiana': 'IN',\n",
    "    'Iowa': 'IA',\n",
    "    'Kansas': 'KS',\n",
    "    'Kentucky': 'KY',\n",
    "    'Louisiana': 'LA',\n",
    "    'Maine': 'ME',\n",
    "    'Maryland': 'MD',\n",
    "    'Massachusetts': 'MA',\n",
    "    'Michigan': 'MI',\n",
    "    'Minnesota': 'MN',\n",
    "    'Mississippi': 'MS',\n",
    "    'Missouri': 'MO',\n",
    "    'Montana': 'MT',\n",
    "    'Nebraska': 'NE',\n",
    "    'Nevada': 'NV',\n",
    "    'NewHampshire': 'NH',\n",
    "    'NewJersey': 'NJ',\n",
    "    'NewMexico': 'NM',\n",
    "    'NewYork': 'NY',\n",
    "    'NorthCarolina': 'NC',\n",
    "    'NorthDakota': 'ND',\n",
    "    'Ohio': 'OH',\n",
    "    'Oklahoma': 'OK',\n",
    "    'Oregon': 'OR',\n",
    "    'Pennsylvania': 'PA',\n",
    "    'RhodeIsland': 'RI',\n",
    "    'SouthCarolina': 'SC',\n",
    "    'SouthDakota': 'SD',\n",
    "    'Tennessee': 'TN',\n",
    "    'Texas': 'TX',\n",
    "    'Utah': 'UT',\n",
    "    'Vermont': 'VT',\n",
    "    'Virginia': 'VA',\n",
    "    'Washington': 'WA',\n",
    "    'WestVirginia': 'WV',\n",
    "    'Wisconsin': 'WI',\n",
    "    'Wyoming': 'WY',\n",
    "}"
   ]
  },
  {
   "cell_type": "markdown",
   "metadata": {},
   "source": [
    "### Workflow step 2. \n",
    "#### Set the input polygon JSON directory and the output lines JSON directory"
   ]
  },
  {
   "cell_type": "code",
   "execution_count": 3,
   "metadata": {},
   "outputs": [],
   "source": [
    "# Set paths, line_root is a folder within poly_root\n",
    "poly_root = r'T:\\CCSI\\TECH\\FEMA\\Datasets\\Bldg_Footprints\\Bing\\July_2018\\JSONdownloads'\n",
    "line_root = os.path.join(poly_root, 'lines')"
   ]
  },
  {
   "cell_type": "markdown",
   "metadata": {},
   "source": [
    "### Workflow step 3. \n",
    "#### Glob for a list of JSON polygon files"
   ]
  },
  {
   "cell_type": "code",
   "execution_count": 4,
   "metadata": {},
   "outputs": [
    {
     "name": "stdout",
     "output_type": "stream",
     "text": [
      "There are 51 JSON polygon files\n"
     ]
    }
   ],
   "source": [
    "# Glob a list of JSON files\n",
    "jsons = glob(os.path.join(poly_root, '*.json'))\n",
    "\n",
    "print ('There are {} JSON polygon files'.format(len(jsons)))"
   ]
  },
  {
   "cell_type": "markdown",
   "metadata": {},
   "source": [
    "### Workflow step 4. \n",
    "#### Iterate through each JSON file line by line, changing the geometry and adding a unique ID and statecode"
   ]
  },
  {
   "cell_type": "code",
   "execution_count": null,
   "metadata": {},
   "outputs": [],
   "source": [
    "#Iterate through each JSON \n",
    "for i, json in enumerate(jsons):\n",
    "    outfile = json.split('JSONdownloads\\\\')[1]\n",
    "    newjson = os.path.join(line_root, outfile) # Define the new JSON path\n",
    "    statename = json.split ('JSONdownloads\\\\')[1].split('.')[0]\n",
    "    state_abrv = us_state_abbrev[statename] # Set the state abbreviation variable\n",
    "    with open(newjson, 'w') as fout: # Open the new line JSON in write mode\n",
    "        with open(json, 'r') as f: # Open the polygon JSON in read mode\n",
    "            lines = f.readlines()\n",
    "            for i, line in enumerate(lines): # Iterate through each line in the polygon json and write it to the line JSON replacing 'Polygon' with 'LineString', adding properties\n",
    "                if 'Polygon' in line:\n",
    "                    newline = line.replace('Polygon', \n",
    "                                           'LineString').replace('[[[',\n",
    "                                           '[[').replace(']]]',\n",
    "                                           ']]').replace('\"Feature\",', \n",
    "                                            \"\"\"\"Feature\",\"properties\": {{\"ID\": \"{}\", \"StateCode\": \"{}\"}},\"\"\".format(state_abrv + str(i-3), state_abrv))\n",
    "                else:\n",
    "                    newline=line\n",
    "                fout.write(newline)"
   ]
  },
  {
   "cell_type": "code",
   "execution_count": 5,
   "metadata": {},
   "outputs": [
    {
     "name": "stdout",
     "output_type": "stream",
     "text": [
      "The line JSON files can be found at T:\\CCSI\\TECH\\FEMA\\Datasets\\Bldg_Footprints\\Bing\\July_2018\\JSONdownloads\\lines\n"
     ]
    }
   ],
   "source": [
    "print ('The line JSON files can be found at {}'.format(line_root))"
   ]
  },
  {
   "cell_type": "markdown",
   "metadata": {},
   "source": [
    "## Converted all 125 million buildings to lines and added unique IDs and statecodes to each in 2.5 hours"
   ]
  },
  {
   "cell_type": "markdown",
   "metadata": {},
   "source": [
    "## References\n",
    "##### Bing building footprints availble for download at: https://github.com/Microsoft/USBuildingFootprints"
   ]
  }
 ],
 "metadata": {
  "kernelspec": {
   "display_name": "Python 3.6",
   "language": "python",
   "name": "python3"
  },
  "language_info": {
   "codemirror_mode": {
    "name": "ipython",
    "version": 3
   },
   "file_extension": ".py",
   "mimetype": "text/x-python",
   "name": "python",
   "nbconvert_exporter": "python",
   "pygments_lexer": "ipython3",
   "version": "3.6.4"
  }
 },
 "nbformat": 4,
 "nbformat_minor": 2
}
