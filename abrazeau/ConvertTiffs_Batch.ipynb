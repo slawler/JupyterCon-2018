{
 "cells": [
  {
   "cell_type": "markdown",
   "metadata": {},
   "source": [
    "# Converting National Elevation Dataset image files to Cloud Optimized GeoTIFFs (1/3rd arc, 1/9th arc, 1m)"
   ]
  },
  {
   "cell_type": "markdown",
   "metadata": {},
   "source": [
    "## Required:\n",
    " - NED image files (as .img and .adf)\n",
    "     - A globebd list for each 1/3rd arc, 1/9th arc and 1m\n",
    " - GDAL Translate command line function\n",
    " \n",
    "## Workflow\n",
    "\n",
    " 1. Define the function that will be used to write the .cmd file\n",
    " 2.  Glob for a list of all image files in 1/3rd arc folder, 1/9th arc folder, and 1m arc folder\n",
    " 3.  Specify the location to write the .cmd file to\n",
    "     - Easy to write it to the same folder that the gdal tool is located in\n",
    " 4.  Write the .cmd file for each list\n",
    " 5. Open cmd prompt, cd to the location of the folder containing both the gdal tool and the .cmd file, run the .cmd file\n"
   ]
  },
  {
   "cell_type": "code",
   "execution_count": 1,
   "metadata": {},
   "outputs": [],
   "source": [
    "# Import necessary modules\n",
    "import os\n",
    "from glob import glob"
   ]
  },
  {
   "cell_type": "markdown",
   "metadata": {},
   "source": [
    "### Workflow step 1. \n",
    "#### Define the function that will be used to write the .cmd file"
   ]
  },
  {
   "cell_type": "code",
   "execution_count": 2,
   "metadata": {},
   "outputs": [],
   "source": [
    "new_file_dir = r'T:\\CCSI\\TECH\\FEMA\\2017_NFIP_RiskRating_Milliman\\GIS\\Harddrive\\NED\\NED_COGTIFFS'\n",
    "gdal_translate = 'gdal_translate'\n",
    "gdal_warp = 'gdal_warp'\n",
    "\n",
    "def WriteCMD(cmd_file, raster_paths, file_type, gdal_function, new_file_dir):\n",
    "    '''This function opens a .cmd file in write mode, goes through a list of rasters and writes a command to use the gdal translate\n",
    "    tool on each raster. This tool converts the raster to a cloud optimized GeoTIFF and puts each GeoTIFF in a common folder, \n",
    "    'new_file_dir'. The new GeoTIFFs are saved using their same file name from before conversion.'''\n",
    "    quotes = '\"'\n",
    "    with open(cmd_file, 'w') as f:\n",
    "        for img in raster_paths: \n",
    "            cmd = '{} '.format(gdal_function)\n",
    "            gdal_options = ' -co TILED=YES -co COPY_SRC_OVERVIEWS=YES -co COMPRESS=LZW' # This formats the output GeoTIFF so that it is cloud optimized\n",
    "            if '.img' in img:\n",
    "                raw_file_name = os.path.basename(img).strip(file_type)\n",
    "            else:\n",
    "                raw_file_name = img.split('\\\\')[-2]\n",
    "            new_file_name = os.path.join(new_file_dir, raw_file_name + '.tif')\n",
    "            terminal_input = cmd + quotes + img +quotes+ ' '+ quotes + new_file_name + quotes + gdal_options + '\\n' \n",
    "            f.write(terminal_input) # Writes a new line for each image file in the list\n",
    "    return None"
   ]
  },
  {
   "cell_type": "markdown",
   "metadata": {},
   "source": [
    "### Workflow step 2.\n",
    "#### Glob for a lsit of all image files in 1/3rd arc folder, 1/9th arc folder, and 1m arc folder"
   ]
  },
  {
   "cell_type": "code",
   "execution_count": 3,
   "metadata": {},
   "outputs": [
    {
     "name": "stdout",
     "output_type": "stream",
     "text": [
      "7300 files with adf extension, 2432 1/3rd arc raster files\n"
     ]
    }
   ],
   "source": [
    "# 1/3rd arc:\n",
    "raster_dir_13 = r'T:\\CCSI\\TECH\\FEMA\\2017_NFIP_RiskRating_Milliman\\GIS\\Harddrive\\NED\\NED-1-3'\n",
    "file_type_13 = '.adf'\n",
    "adf_files = glob(os.path.join(raster_dir_13, '**', '*{}'.format(file_type_13)), recursive=True)\n",
    "\n",
    "# Two .adf files for each panel, only using the one not ending in x\n",
    "adf_imgs = [img for img in adf_files if 'w001001' in img]\n",
    "adfs_13 = [img for img in adf_imgs if 'w001001x' not in img]\n",
    "\n",
    "print('{} files with adf extension, {} 1/3rd arc raster files'.format(len(adf_files), len(adf_imgs)))"
   ]
  },
  {
   "cell_type": "code",
   "execution_count": 4,
   "metadata": {},
   "outputs": [
    {
     "name": "stdout",
     "output_type": "stream",
     "text": [
      "8354 1/9th arc raster files\n"
     ]
    }
   ],
   "source": [
    "# 1/9th arc:\n",
    "raster_dir_19 = r'T:\\CCSI\\TECH\\FEMA\\2017_NFIP_RiskRating_Milliman\\GIS\\Harddrive\\NED\\NED-1-9'\n",
    "file_type_19 = '.img'\n",
    "imgs_19 = glob(os.path.join(raster_dir_19, '**', '*{}'.format(file_type_19)), recursive=True)\n",
    "\n",
    "print('{} 1/9th arc raster files'.format(len(imgs_19)))"
   ]
  },
  {
   "cell_type": "code",
   "execution_count": 5,
   "metadata": {},
   "outputs": [
    {
     "name": "stdout",
     "output_type": "stream",
     "text": [
      "3642 1m raster files\n"
     ]
    }
   ],
   "source": [
    "# 1m arc:\n",
    "raster_dir_1m = r'T:\\CCSI\\TECH\\FEMA\\2017_NFIP_RiskRating_Milliman\\GIS\\Harddrive\\NED\\NED-1m'\n",
    "file_type_1m = '.img'\n",
    "imgs_1m = glob(os.path.join(raster_dir_1m, '**', '*{}'.format(file_type_1m)), recursive=True)\n",
    "\n",
    "print('{} 1m raster files'.format(len(imgs_1m)))"
   ]
  },
  {
   "cell_type": "markdown",
   "metadata": {},
   "source": [
    "### Workflow step 3.\n",
    "#### Specify the location to write the .cmd file to"
   ]
  },
  {
   "cell_type": "code",
   "execution_count": 6,
   "metadata": {},
   "outputs": [],
   "source": [
    "cmd_file_13 = r'C:\\Users\\abrazeau\\Desktop\\13_processing\\RunBatch.cmd'\n",
    "cmd_file_19 = r'C:\\Users\\abrazeau\\Desktop\\19_processing\\RunBatch.cmd'\n",
    "cmd_file_1m = r'C:\\Users\\abrazeau\\Desktop\\1m_processing\\RunBatch.cmd'"
   ]
  },
  {
   "cell_type": "markdown",
   "metadata": {},
   "source": [
    "### Workflow step 4.\n",
    "#### Write the .cmd file for each list of images"
   ]
  },
  {
   "cell_type": "code",
   "execution_count": 7,
   "metadata": {},
   "outputs": [
    {
     "name": "stdout",
     "output_type": "stream",
     "text": [
      "1/3rd arc .cmd file located at C:\\Users\\abrazeau\\Desktop\\13_processing\\RunBatch.cmd\n"
     ]
    }
   ],
   "source": [
    "# Write .cmd file for 1/3rd arc\n",
    "WriteCMD(cmd_file_13, adfs_13, file_type_13, gdal_translate, new_file_dir)\n",
    "\n",
    "print ('1/3rd arc .cmd file located at {}'.format(cmd_file_13))"
   ]
  },
  {
   "cell_type": "code",
   "execution_count": 8,
   "metadata": {},
   "outputs": [
    {
     "name": "stdout",
     "output_type": "stream",
     "text": [
      "1/9th arc .cmd file located at C:\\Users\\abrazeau\\Desktop\\19_processing\\RunBatch.cmd\n"
     ]
    }
   ],
   "source": [
    "# Write .cmd file for 1/9thrd arc\n",
    "WriteCMD(cmd_file_19, imgs_19, file_type_19, gdal_translate, new_file_dir)\n",
    "\n",
    "print ('1/9th arc .cmd file located at {}'.format(cmd_file_19))"
   ]
  },
  {
   "cell_type": "code",
   "execution_count": 9,
   "metadata": {},
   "outputs": [
    {
     "name": "stdout",
     "output_type": "stream",
     "text": [
      "1m arc .cmd file located at C:\\Users\\abrazeau\\Desktop\\1m_processing\\RunBatch.cmd\n"
     ]
    }
   ],
   "source": [
    "# Write .cmd file for 1m arc\n",
    "WriteCMD(cmd_file_1m, imgs_1m, file_type_1m, gdal_translate, new_file_dir)\n",
    "\n",
    "print ('1m arc .cmd file located at {}'.format(cmd_file_1m))"
   ]
  },
  {
   "cell_type": "markdown",
   "metadata": {},
   "source": [
    "### Workflow step 5. \n",
    "#### Open cmd prompt, cd to the location of the folder containing both the gdal tool and the .cmd file, run the .cmd file"
   ]
  },
  {
   "cell_type": "markdown",
   "metadata": {},
   "source": [
    "\n",
    "## References\n",
    "\n",
    "##### gdal_translate information at: http://www.gdal.org/gdal_translate.html\n",
    "##### Cloud Optimized GeoTIFF information at: https://trac.osgeo.org/gdal/wiki/CloudOptimizedGeoTIFF#HowtoreaditwithGDAL\n",
    "##### 'Start' at the beginning of each line returns an error, cannot run gdal_translate as batch... would also questionable crash the machine"
   ]
  }
 ],
 "metadata": {
  "kernelspec": {
   "display_name": "Python [default]",
   "language": "python",
   "name": "python3"
  },
  "language_info": {
   "codemirror_mode": {
    "name": "ipython",
    "version": 3
   },
   "file_extension": ".py",
   "mimetype": "text/x-python",
   "name": "python",
   "nbconvert_exporter": "python",
   "pygments_lexer": "ipython3",
   "version": "3.5.5"
  }
 },
 "nbformat": 4,
 "nbformat_minor": 2
}
